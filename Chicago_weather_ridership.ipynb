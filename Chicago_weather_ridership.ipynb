{
 "cells": [
  {
   "cell_type": "code",
   "execution_count": 1,
   "id": "4bde6b3b-9fb9-43af-9b2a-d340b7c3f119",
   "metadata": {},
   "outputs": [],
   "source": [
    "import pandas as pd\n",
    "import seaborn as sns\n",
    "import numpy as np\n",
    "import matplotlib.pyplot as plt"
   ]
  },
  {
   "cell_type": "markdown",
   "id": "be7cd55d-5912-4e1f-bae2-bdd30824df32",
   "metadata": {},
   "source": [
    "## Data loading"
   ]
  },
  {
   "cell_type": "code",
   "execution_count": 2,
   "id": "a72241ec-15c3-4b36-b085-af3fab672942",
   "metadata": {},
   "outputs": [],
   "source": [
    "weather_df = pd.read_csv('chicago_weather.csv')\n",
    "transport_df= pd.read_csv('CTA_-_Ridership_-_Daily_Boarding_Totals_20240531.csv')"
   ]
  },
  {
   "cell_type": "code",
   "execution_count": 3,
   "id": "87791605-c211-41e0-9bba-54c169ae30f9",
   "metadata": {},
   "outputs": [
    {
     "data": {
      "text/html": [
       "<div>\n",
       "<style scoped>\n",
       "    .dataframe tbody tr th:only-of-type {\n",
       "        vertical-align: middle;\n",
       "    }\n",
       "\n",
       "    .dataframe tbody tr th {\n",
       "        vertical-align: top;\n",
       "    }\n",
       "\n",
       "    .dataframe thead th {\n",
       "        text-align: right;\n",
       "    }\n",
       "</style>\n",
       "<table border=\"1\" class=\"dataframe\">\n",
       "  <thead>\n",
       "    <tr style=\"text-align: right;\">\n",
       "      <th></th>\n",
       "      <th>YEAR</th>\n",
       "      <th>MO</th>\n",
       "      <th>DY</th>\n",
       "      <th>T2M_MAX</th>\n",
       "      <th>T2M_MIN</th>\n",
       "      <th>QV2M</th>\n",
       "      <th>WS10M</th>\n",
       "    </tr>\n",
       "  </thead>\n",
       "  <tbody>\n",
       "    <tr>\n",
       "      <th>8334</th>\n",
       "      <td>2023</td>\n",
       "      <td>10</td>\n",
       "      <td>27</td>\n",
       "      <td>19.98</td>\n",
       "      <td>8.63</td>\n",
       "      <td>9.64</td>\n",
       "      <td>7.34</td>\n",
       "    </tr>\n",
       "    <tr>\n",
       "      <th>8335</th>\n",
       "      <td>2023</td>\n",
       "      <td>10</td>\n",
       "      <td>28</td>\n",
       "      <td>10.86</td>\n",
       "      <td>7.08</td>\n",
       "      <td>5.55</td>\n",
       "      <td>6.48</td>\n",
       "    </tr>\n",
       "    <tr>\n",
       "      <th>8336</th>\n",
       "      <td>2023</td>\n",
       "      <td>10</td>\n",
       "      <td>29</td>\n",
       "      <td>10.61</td>\n",
       "      <td>5.50</td>\n",
       "      <td>5.92</td>\n",
       "      <td>6.71</td>\n",
       "    </tr>\n",
       "    <tr>\n",
       "      <th>8337</th>\n",
       "      <td>2023</td>\n",
       "      <td>10</td>\n",
       "      <td>30</td>\n",
       "      <td>6.15</td>\n",
       "      <td>2.73</td>\n",
       "      <td>3.66</td>\n",
       "      <td>7.15</td>\n",
       "    </tr>\n",
       "    <tr>\n",
       "      <th>8338</th>\n",
       "      <td>2023</td>\n",
       "      <td>10</td>\n",
       "      <td>31</td>\n",
       "      <td>5.98</td>\n",
       "      <td>2.02</td>\n",
       "      <td>3.85</td>\n",
       "      <td>8.22</td>\n",
       "    </tr>\n",
       "  </tbody>\n",
       "</table>\n",
       "</div>"
      ],
      "text/plain": [
       "      YEAR  MO  DY  T2M_MAX  T2M_MIN  QV2M  WS10M\n",
       "8334  2023  10  27    19.98     8.63  9.64   7.34\n",
       "8335  2023  10  28    10.86     7.08  5.55   6.48\n",
       "8336  2023  10  29    10.61     5.50  5.92   6.71\n",
       "8337  2023  10  30     6.15     2.73  3.66   7.15\n",
       "8338  2023  10  31     5.98     2.02  3.85   8.22"
      ]
     },
     "execution_count": 3,
     "metadata": {},
     "output_type": "execute_result"
    }
   ],
   "source": [
    "weather_df.tail()"
   ]
  },
  {
   "cell_type": "code",
   "execution_count": 4,
   "id": "84224130-c80a-4f94-b392-7a81bbbf69aa",
   "metadata": {},
   "outputs": [
    {
     "data": {
      "text/html": [
       "<div>\n",
       "<style scoped>\n",
       "    .dataframe tbody tr th:only-of-type {\n",
       "        vertical-align: middle;\n",
       "    }\n",
       "\n",
       "    .dataframe tbody tr th {\n",
       "        vertical-align: top;\n",
       "    }\n",
       "\n",
       "    .dataframe thead th {\n",
       "        text-align: right;\n",
       "    }\n",
       "</style>\n",
       "<table border=\"1\" class=\"dataframe\">\n",
       "  <thead>\n",
       "    <tr style=\"text-align: right;\">\n",
       "      <th></th>\n",
       "      <th>service_date</th>\n",
       "      <th>day_type</th>\n",
       "      <th>bus</th>\n",
       "      <th>rail_boardings</th>\n",
       "      <th>total_rides</th>\n",
       "    </tr>\n",
       "  </thead>\n",
       "  <tbody>\n",
       "    <tr>\n",
       "      <th>8517</th>\n",
       "      <td>02/25/2024</td>\n",
       "      <td>U</td>\n",
       "      <td>280214</td>\n",
       "      <td>175446</td>\n",
       "      <td>455660</td>\n",
       "    </tr>\n",
       "    <tr>\n",
       "      <th>8518</th>\n",
       "      <td>02/26/2024</td>\n",
       "      <td>W</td>\n",
       "      <td>560355</td>\n",
       "      <td>347691</td>\n",
       "      <td>908046</td>\n",
       "    </tr>\n",
       "    <tr>\n",
       "      <th>8519</th>\n",
       "      <td>02/27/2024</td>\n",
       "      <td>W</td>\n",
       "      <td>587359</td>\n",
       "      <td>392420</td>\n",
       "      <td>979779</td>\n",
       "    </tr>\n",
       "    <tr>\n",
       "      <th>8520</th>\n",
       "      <td>02/28/2024</td>\n",
       "      <td>W</td>\n",
       "      <td>549028</td>\n",
       "      <td>375242</td>\n",
       "      <td>924270</td>\n",
       "    </tr>\n",
       "    <tr>\n",
       "      <th>8521</th>\n",
       "      <td>02/29/2024</td>\n",
       "      <td>W</td>\n",
       "      <td>577283</td>\n",
       "      <td>386672</td>\n",
       "      <td>963955</td>\n",
       "    </tr>\n",
       "  </tbody>\n",
       "</table>\n",
       "</div>"
      ],
      "text/plain": [
       "     service_date day_type     bus  rail_boardings  total_rides\n",
       "8517   02/25/2024        U  280214          175446       455660\n",
       "8518   02/26/2024        W  560355          347691       908046\n",
       "8519   02/27/2024        W  587359          392420       979779\n",
       "8520   02/28/2024        W  549028          375242       924270\n",
       "8521   02/29/2024        W  577283          386672       963955"
      ]
     },
     "execution_count": 4,
     "metadata": {},
     "output_type": "execute_result"
    }
   ],
   "source": [
    "transport_df.tail()"
   ]
  },
  {
   "cell_type": "markdown",
   "id": "2cd1fd28-94de-45d1-8868-a7aecbebacca",
   "metadata": {},
   "source": [
    "##  join the two datasets based on the date"
   ]
  },
  {
   "cell_type": "code",
   "execution_count": 5,
   "id": "f87e84dd-2c00-4389-9376-840ec1955ca8",
   "metadata": {},
   "outputs": [
    {
     "data": {
      "text/html": [
       "<div>\n",
       "<style scoped>\n",
       "    .dataframe tbody tr th:only-of-type {\n",
       "        vertical-align: middle;\n",
       "    }\n",
       "\n",
       "    .dataframe tbody tr th {\n",
       "        vertical-align: top;\n",
       "    }\n",
       "\n",
       "    .dataframe thead th {\n",
       "        text-align: right;\n",
       "    }\n",
       "</style>\n",
       "<table border=\"1\" class=\"dataframe\">\n",
       "  <thead>\n",
       "    <tr style=\"text-align: right;\">\n",
       "      <th></th>\n",
       "      <th>YEAR</th>\n",
       "      <th>MO</th>\n",
       "      <th>DY</th>\n",
       "      <th>T2M_MAX</th>\n",
       "      <th>T2M_MIN</th>\n",
       "      <th>QV2M</th>\n",
       "      <th>WS10M</th>\n",
       "      <th>service_date</th>\n",
       "      <th>day_type</th>\n",
       "      <th>bus</th>\n",
       "      <th>rail_boardings</th>\n",
       "      <th>total_rides</th>\n",
       "    </tr>\n",
       "  </thead>\n",
       "  <tbody>\n",
       "    <tr>\n",
       "      <th>8396</th>\n",
       "      <td>2023</td>\n",
       "      <td>10</td>\n",
       "      <td>27</td>\n",
       "      <td>19.98</td>\n",
       "      <td>8.63</td>\n",
       "      <td>9.64</td>\n",
       "      <td>7.34</td>\n",
       "      <td>2023-10-27</td>\n",
       "      <td>W</td>\n",
       "      <td>503840</td>\n",
       "      <td>373004</td>\n",
       "      <td>876844</td>\n",
       "    </tr>\n",
       "    <tr>\n",
       "      <th>8397</th>\n",
       "      <td>2023</td>\n",
       "      <td>10</td>\n",
       "      <td>28</td>\n",
       "      <td>10.86</td>\n",
       "      <td>7.08</td>\n",
       "      <td>5.55</td>\n",
       "      <td>6.48</td>\n",
       "      <td>2023-10-28</td>\n",
       "      <td>A</td>\n",
       "      <td>360484</td>\n",
       "      <td>275006</td>\n",
       "      <td>635490</td>\n",
       "    </tr>\n",
       "    <tr>\n",
       "      <th>8398</th>\n",
       "      <td>2023</td>\n",
       "      <td>10</td>\n",
       "      <td>29</td>\n",
       "      <td>10.61</td>\n",
       "      <td>5.50</td>\n",
       "      <td>5.92</td>\n",
       "      <td>6.71</td>\n",
       "      <td>2023-10-29</td>\n",
       "      <td>U</td>\n",
       "      <td>250473</td>\n",
       "      <td>185823</td>\n",
       "      <td>436296</td>\n",
       "    </tr>\n",
       "    <tr>\n",
       "      <th>8399</th>\n",
       "      <td>2023</td>\n",
       "      <td>10</td>\n",
       "      <td>30</td>\n",
       "      <td>6.15</td>\n",
       "      <td>2.73</td>\n",
       "      <td>3.66</td>\n",
       "      <td>7.15</td>\n",
       "      <td>2023-10-30</td>\n",
       "      <td>W</td>\n",
       "      <td>551840</td>\n",
       "      <td>367453</td>\n",
       "      <td>919293</td>\n",
       "    </tr>\n",
       "    <tr>\n",
       "      <th>8400</th>\n",
       "      <td>2023</td>\n",
       "      <td>10</td>\n",
       "      <td>31</td>\n",
       "      <td>5.98</td>\n",
       "      <td>2.02</td>\n",
       "      <td>3.85</td>\n",
       "      <td>8.22</td>\n",
       "      <td>2023-10-31</td>\n",
       "      <td>W</td>\n",
       "      <td>520069</td>\n",
       "      <td>390110</td>\n",
       "      <td>910179</td>\n",
       "    </tr>\n",
       "  </tbody>\n",
       "</table>\n",
       "</div>"
      ],
      "text/plain": [
       "      YEAR  MO  DY  T2M_MAX  T2M_MIN  QV2M  WS10M service_date day_type  \\\n",
       "8396  2023  10  27    19.98     8.63  9.64   7.34   2023-10-27        W   \n",
       "8397  2023  10  28    10.86     7.08  5.55   6.48   2023-10-28        A   \n",
       "8398  2023  10  29    10.61     5.50  5.92   6.71   2023-10-29        U   \n",
       "8399  2023  10  30     6.15     2.73  3.66   7.15   2023-10-30        W   \n",
       "8400  2023  10  31     5.98     2.02  3.85   8.22   2023-10-31        W   \n",
       "\n",
       "         bus  rail_boardings  total_rides  \n",
       "8396  503840          373004       876844  \n",
       "8397  360484          275006       635490  \n",
       "8398  250473          185823       436296  \n",
       "8399  551840          367453       919293  \n",
       "8400  520069          390110       910179  "
      ]
     },
     "execution_count": 5,
     "metadata": {},
     "output_type": "execute_result"
    }
   ],
   "source": [
    "transport_df['service_date'] = pd.to_datetime(transport_df['service_date'])\n",
    "\n",
    "transport_df['YEAR'] = transport_df['service_date'].dt.year\n",
    "transport_df['MO'] = transport_df['service_date'].dt.month\n",
    "transport_df['DY'] = transport_df['service_date'].dt.day\n",
    "\n",
    "WR_df = pd.merge(weather_df, transport_df, on=['YEAR', 'MO', 'DY'], how='inner')\n",
    "\n",
    "WR_df.tail()"
   ]
  },
  {
   "cell_type": "code",
   "execution_count": 6,
   "id": "4cffb65b-bce3-43e6-9105-5190675d33f6",
   "metadata": {},
   "outputs": [
    {
     "data": {
      "text/html": [
       "<div>\n",
       "<style scoped>\n",
       "    .dataframe tbody tr th:only-of-type {\n",
       "        vertical-align: middle;\n",
       "    }\n",
       "\n",
       "    .dataframe tbody tr th {\n",
       "        vertical-align: top;\n",
       "    }\n",
       "\n",
       "    .dataframe thead th {\n",
       "        text-align: right;\n",
       "    }\n",
       "</style>\n",
       "<table border=\"1\" class=\"dataframe\">\n",
       "  <thead>\n",
       "    <tr style=\"text-align: right;\">\n",
       "      <th></th>\n",
       "      <th>YEAR</th>\n",
       "      <th>MO</th>\n",
       "      <th>T2M_MAX</th>\n",
       "      <th>T2M_MIN</th>\n",
       "      <th>QV2M</th>\n",
       "      <th>WS10M</th>\n",
       "      <th>day_type</th>\n",
       "      <th>bus</th>\n",
       "      <th>rail_boardings</th>\n",
       "      <th>total_rides</th>\n",
       "    </tr>\n",
       "  </thead>\n",
       "  <tbody>\n",
       "    <tr>\n",
       "      <th>0</th>\n",
       "      <td>2001</td>\n",
       "      <td>1</td>\n",
       "      <td>-2.89</td>\n",
       "      <td>-6.59</td>\n",
       "      <td>2.32</td>\n",
       "      <td>5.30</td>\n",
       "      <td>U</td>\n",
       "      <td>297192</td>\n",
       "      <td>126455</td>\n",
       "      <td>423647</td>\n",
       "    </tr>\n",
       "    <tr>\n",
       "      <th>1</th>\n",
       "      <td>2001</td>\n",
       "      <td>1</td>\n",
       "      <td>-4.20</td>\n",
       "      <td>-8.83</td>\n",
       "      <td>2.01</td>\n",
       "      <td>6.62</td>\n",
       "      <td>W</td>\n",
       "      <td>780827</td>\n",
       "      <td>501952</td>\n",
       "      <td>1282779</td>\n",
       "    </tr>\n",
       "    <tr>\n",
       "      <th>2</th>\n",
       "      <td>2001</td>\n",
       "      <td>1</td>\n",
       "      <td>-1.83</td>\n",
       "      <td>-9.81</td>\n",
       "      <td>2.50</td>\n",
       "      <td>8.53</td>\n",
       "      <td>W</td>\n",
       "      <td>824923</td>\n",
       "      <td>536432</td>\n",
       "      <td>1361355</td>\n",
       "    </tr>\n",
       "    <tr>\n",
       "      <th>3</th>\n",
       "      <td>2001</td>\n",
       "      <td>1</td>\n",
       "      <td>-0.00</td>\n",
       "      <td>-5.95</td>\n",
       "      <td>2.81</td>\n",
       "      <td>7.81</td>\n",
       "      <td>W</td>\n",
       "      <td>870021</td>\n",
       "      <td>550011</td>\n",
       "      <td>1420032</td>\n",
       "    </tr>\n",
       "    <tr>\n",
       "      <th>4</th>\n",
       "      <td>2001</td>\n",
       "      <td>1</td>\n",
       "      <td>1.80</td>\n",
       "      <td>-3.50</td>\n",
       "      <td>3.54</td>\n",
       "      <td>9.33</td>\n",
       "      <td>W</td>\n",
       "      <td>890426</td>\n",
       "      <td>557917</td>\n",
       "      <td>1448343</td>\n",
       "    </tr>\n",
       "  </tbody>\n",
       "</table>\n",
       "</div>"
      ],
      "text/plain": [
       "   YEAR  MO  T2M_MAX  T2M_MIN  QV2M  WS10M day_type     bus  rail_boardings  \\\n",
       "0  2001   1    -2.89    -6.59  2.32   5.30        U  297192          126455   \n",
       "1  2001   1    -4.20    -8.83  2.01   6.62        W  780827          501952   \n",
       "2  2001   1    -1.83    -9.81  2.50   8.53        W  824923          536432   \n",
       "3  2001   1    -0.00    -5.95  2.81   7.81        W  870021          550011   \n",
       "4  2001   1     1.80    -3.50  3.54   9.33        W  890426          557917   \n",
       "\n",
       "   total_rides  \n",
       "0       423647  \n",
       "1      1282779  \n",
       "2      1361355  \n",
       "3      1420032  \n",
       "4      1448343  "
      ]
     },
     "execution_count": 6,
     "metadata": {},
     "output_type": "execute_result"
    }
   ],
   "source": [
    "WR_df.drop(['DY', 'service_date'], axis=1, inplace=True)\n",
    "WR_df.head()"
   ]
  },
  {
   "cell_type": "code",
   "execution_count": 7,
   "id": "e403d1ff-e3a0-4b4b-a293-5c203365ffea",
   "metadata": {},
   "outputs": [
    {
     "name": "stdout",
     "output_type": "stream",
     "text": [
      "Sum of null values in WR_df: 0\n"
     ]
    }
   ],
   "source": [
    "# Calculate the sum of null values in WR_df\n",
    "null_values_sum = WR_df.isnull().sum().sum()\n",
    "\n",
    "print(\"Sum of null values in WR_df:\", null_values_sum)"
   ]
  },
  {
   "cell_type": "code",
   "execution_count": 8,
   "id": "abd696a1-68f3-418a-a900-5e5945b426cb",
   "metadata": {},
   "outputs": [
    {
     "name": "stdout",
     "output_type": "stream",
     "text": [
      "<class 'pandas.core.frame.DataFrame'>\n",
      "RangeIndex: 8401 entries, 0 to 8400\n",
      "Data columns (total 10 columns):\n",
      " #   Column          Non-Null Count  Dtype  \n",
      "---  ------          --------------  -----  \n",
      " 0   YEAR            8401 non-null   int64  \n",
      " 1   MO              8401 non-null   int64  \n",
      " 2   T2M_MAX         8401 non-null   float64\n",
      " 3   T2M_MIN         8401 non-null   float64\n",
      " 4   QV2M            8401 non-null   float64\n",
      " 5   WS10M           8401 non-null   float64\n",
      " 6   day_type        8401 non-null   object \n",
      " 7   bus             8401 non-null   int64  \n",
      " 8   rail_boardings  8401 non-null   int64  \n",
      " 9   total_rides     8401 non-null   int64  \n",
      "dtypes: float64(4), int64(5), object(1)\n",
      "memory usage: 656.5+ KB\n"
     ]
    }
   ],
   "source": [
    "WR_df.info()"
   ]
  },
  {
   "cell_type": "code",
   "execution_count": 9,
   "id": "eb6f77c2-40eb-482d-9370-08b336a68df9",
   "metadata": {},
   "outputs": [],
   "source": [
    "csv_file_path = 'Chicago_weather_ridership.csv'\n",
    "WR_df.to_csv(csv_file_path, index=False)"
   ]
  },
  {
   "cell_type": "markdown",
   "id": "b397ac20-5b8d-4ef2-898c-ee20344dd8a1",
   "metadata": {},
   "source": [
    "### You can find the dataset here(huggingface) : IlhamHadarbach/chicago_public_transit_ridership_weather_2001_2023"
   ]
  },
  {
   "cell_type": "markdown",
   "id": "797247ef-358f-4f96-8abd-0212bc0d8a43",
   "metadata": {},
   "source": [
    "## Feature Engineering"
   ]
  },
  {
   "cell_type": "code",
   "execution_count": 10,
   "id": "b67f8eba-b439-494d-bd1a-55f8a596bf9e",
   "metadata": {},
   "outputs": [
    {
     "name": "stdout",
     "output_type": "stream",
     "text": [
      "75th percentile threshold: 1638565.0\n"
     ]
    }
   ],
   "source": [
    "crowded_threshold = WR_df['total_rides'].quantile(0.75)\n",
    "print(f\"75th percentile threshold: {crowded_threshold}\")\n",
    "\n",
    "WR_df['crowded'] = WR_df['total_rides'].apply(lambda x: 'yes' if x > crowded_threshold else 'no')"
   ]
  },
  {
   "cell_type": "code",
   "execution_count": 11,
   "id": "d8be408a-ef65-49a6-ab90-ea761ddbb4b9",
   "metadata": {},
   "outputs": [
    {
     "data": {
      "text/html": [
       "<div>\n",
       "<style scoped>\n",
       "    .dataframe tbody tr th:only-of-type {\n",
       "        vertical-align: middle;\n",
       "    }\n",
       "\n",
       "    .dataframe tbody tr th {\n",
       "        vertical-align: top;\n",
       "    }\n",
       "\n",
       "    .dataframe thead th {\n",
       "        text-align: right;\n",
       "    }\n",
       "</style>\n",
       "<table border=\"1\" class=\"dataframe\">\n",
       "  <thead>\n",
       "    <tr style=\"text-align: right;\">\n",
       "      <th></th>\n",
       "      <th>YEAR</th>\n",
       "      <th>MO</th>\n",
       "      <th>T2M_MAX</th>\n",
       "      <th>T2M_MIN</th>\n",
       "      <th>QV2M</th>\n",
       "      <th>WS10M</th>\n",
       "      <th>day_type</th>\n",
       "      <th>crowded</th>\n",
       "    </tr>\n",
       "  </thead>\n",
       "  <tbody>\n",
       "    <tr>\n",
       "      <th>0</th>\n",
       "      <td>2001</td>\n",
       "      <td>1</td>\n",
       "      <td>-2.89</td>\n",
       "      <td>-6.59</td>\n",
       "      <td>2.32</td>\n",
       "      <td>5.30</td>\n",
       "      <td>U</td>\n",
       "      <td>no</td>\n",
       "    </tr>\n",
       "    <tr>\n",
       "      <th>1</th>\n",
       "      <td>2001</td>\n",
       "      <td>1</td>\n",
       "      <td>-4.20</td>\n",
       "      <td>-8.83</td>\n",
       "      <td>2.01</td>\n",
       "      <td>6.62</td>\n",
       "      <td>W</td>\n",
       "      <td>no</td>\n",
       "    </tr>\n",
       "    <tr>\n",
       "      <th>2</th>\n",
       "      <td>2001</td>\n",
       "      <td>1</td>\n",
       "      <td>-1.83</td>\n",
       "      <td>-9.81</td>\n",
       "      <td>2.50</td>\n",
       "      <td>8.53</td>\n",
       "      <td>W</td>\n",
       "      <td>no</td>\n",
       "    </tr>\n",
       "    <tr>\n",
       "      <th>3</th>\n",
       "      <td>2001</td>\n",
       "      <td>1</td>\n",
       "      <td>-0.00</td>\n",
       "      <td>-5.95</td>\n",
       "      <td>2.81</td>\n",
       "      <td>7.81</td>\n",
       "      <td>W</td>\n",
       "      <td>no</td>\n",
       "    </tr>\n",
       "    <tr>\n",
       "      <th>4</th>\n",
       "      <td>2001</td>\n",
       "      <td>1</td>\n",
       "      <td>1.80</td>\n",
       "      <td>-3.50</td>\n",
       "      <td>3.54</td>\n",
       "      <td>9.33</td>\n",
       "      <td>W</td>\n",
       "      <td>no</td>\n",
       "    </tr>\n",
       "  </tbody>\n",
       "</table>\n",
       "</div>"
      ],
      "text/plain": [
       "   YEAR  MO  T2M_MAX  T2M_MIN  QV2M  WS10M day_type crowded\n",
       "0  2001   1    -2.89    -6.59  2.32   5.30        U      no\n",
       "1  2001   1    -4.20    -8.83  2.01   6.62        W      no\n",
       "2  2001   1    -1.83    -9.81  2.50   8.53        W      no\n",
       "3  2001   1    -0.00    -5.95  2.81   7.81        W      no\n",
       "4  2001   1     1.80    -3.50  3.54   9.33        W      no"
      ]
     },
     "execution_count": 11,
     "metadata": {},
     "output_type": "execute_result"
    }
   ],
   "source": [
    "WR_df.drop(['bus','rail_boardings','total_rides'], axis=1, inplace=True)\n",
    "WR_df.head()"
   ]
  },
  {
   "cell_type": "code",
   "execution_count": 12,
   "id": "ba7d2d39-4c11-44cf-8636-9a6729215f2e",
   "metadata": {},
   "outputs": [
    {
     "data": {
      "text/html": [
       "<div>\n",
       "<style scoped>\n",
       "    .dataframe tbody tr th:only-of-type {\n",
       "        vertical-align: middle;\n",
       "    }\n",
       "\n",
       "    .dataframe tbody tr th {\n",
       "        vertical-align: top;\n",
       "    }\n",
       "\n",
       "    .dataframe thead th {\n",
       "        text-align: right;\n",
       "    }\n",
       "</style>\n",
       "<table border=\"1\" class=\"dataframe\">\n",
       "  <thead>\n",
       "    <tr style=\"text-align: right;\">\n",
       "      <th></th>\n",
       "      <th>YEAR</th>\n",
       "      <th>MO</th>\n",
       "      <th>T2M_MAX</th>\n",
       "      <th>T2M_MIN</th>\n",
       "      <th>QV2M</th>\n",
       "      <th>WS10M</th>\n",
       "      <th>crowded</th>\n",
       "      <th>dy__A</th>\n",
       "      <th>dy__U</th>\n",
       "      <th>dy__W</th>\n",
       "    </tr>\n",
       "  </thead>\n",
       "  <tbody>\n",
       "    <tr>\n",
       "      <th>0</th>\n",
       "      <td>2001</td>\n",
       "      <td>1</td>\n",
       "      <td>-2.89</td>\n",
       "      <td>-6.59</td>\n",
       "      <td>2.32</td>\n",
       "      <td>5.30</td>\n",
       "      <td>no</td>\n",
       "      <td>False</td>\n",
       "      <td>True</td>\n",
       "      <td>False</td>\n",
       "    </tr>\n",
       "    <tr>\n",
       "      <th>1</th>\n",
       "      <td>2001</td>\n",
       "      <td>1</td>\n",
       "      <td>-4.20</td>\n",
       "      <td>-8.83</td>\n",
       "      <td>2.01</td>\n",
       "      <td>6.62</td>\n",
       "      <td>no</td>\n",
       "      <td>False</td>\n",
       "      <td>False</td>\n",
       "      <td>True</td>\n",
       "    </tr>\n",
       "    <tr>\n",
       "      <th>2</th>\n",
       "      <td>2001</td>\n",
       "      <td>1</td>\n",
       "      <td>-1.83</td>\n",
       "      <td>-9.81</td>\n",
       "      <td>2.50</td>\n",
       "      <td>8.53</td>\n",
       "      <td>no</td>\n",
       "      <td>False</td>\n",
       "      <td>False</td>\n",
       "      <td>True</td>\n",
       "    </tr>\n",
       "    <tr>\n",
       "      <th>3</th>\n",
       "      <td>2001</td>\n",
       "      <td>1</td>\n",
       "      <td>-0.00</td>\n",
       "      <td>-5.95</td>\n",
       "      <td>2.81</td>\n",
       "      <td>7.81</td>\n",
       "      <td>no</td>\n",
       "      <td>False</td>\n",
       "      <td>False</td>\n",
       "      <td>True</td>\n",
       "    </tr>\n",
       "    <tr>\n",
       "      <th>4</th>\n",
       "      <td>2001</td>\n",
       "      <td>1</td>\n",
       "      <td>1.80</td>\n",
       "      <td>-3.50</td>\n",
       "      <td>3.54</td>\n",
       "      <td>9.33</td>\n",
       "      <td>no</td>\n",
       "      <td>False</td>\n",
       "      <td>False</td>\n",
       "      <td>True</td>\n",
       "    </tr>\n",
       "  </tbody>\n",
       "</table>\n",
       "</div>"
      ],
      "text/plain": [
       "   YEAR  MO  T2M_MAX  T2M_MIN  QV2M  WS10M crowded  dy__A  dy__U  dy__W\n",
       "0  2001   1    -2.89    -6.59  2.32   5.30      no  False   True  False\n",
       "1  2001   1    -4.20    -8.83  2.01   6.62      no  False  False   True\n",
       "2  2001   1    -1.83    -9.81  2.50   8.53      no  False  False   True\n",
       "3  2001   1    -0.00    -5.95  2.81   7.81      no  False  False   True\n",
       "4  2001   1     1.80    -3.50  3.54   9.33      no  False  False   True"
      ]
     },
     "execution_count": 12,
     "metadata": {},
     "output_type": "execute_result"
    }
   ],
   "source": [
    "WR_df= pd.get_dummies(WR_df, columns=['day_type'], prefix='dy_')\n",
    "WR_df.head()"
   ]
  },
  {
   "cell_type": "code",
   "execution_count": 13,
   "id": "f8c8af8d-2b60-476f-89ff-c9007c4e03ad",
   "metadata": {},
   "outputs": [
    {
     "name": "stdout",
     "output_type": "stream",
     "text": [
      "(8401, 9)\n"
     ]
    }
   ],
   "source": [
    "X = WR_df.drop(columns=['crowded'])\n",
    "y = WR_df['crowded']\n",
    "X_shape = X.shape \n",
    "print(X_shape) "
   ]
  },
  {
   "cell_type": "markdown",
   "id": "94e3e48c-029c-4421-9570-a1de6d9935c9",
   "metadata": {},
   "source": [
    "### Feature selection using correlation matrix"
   ]
  },
  {
   "cell_type": "code",
   "execution_count": 14,
   "id": "9cd226a6-6261-43bf-aeb5-64f8c516e831",
   "metadata": {},
   "outputs": [
    {
     "name": "stdout",
     "output_type": "stream",
     "text": [
      "Index(['YEAR', 'MO', 'T2M_MAX', 'WS10M', 'dy__A', 'dy__U', 'dy__W'], dtype='object')\n"
     ]
    }
   ],
   "source": [
    "df=  WR_df.drop(columns=['crowded'])\n",
    "corr_matrix = df.corr().abs()\n",
    "\n",
    "# Create upper triangular mask using NumPy\n",
    "upper = corr_matrix.where(np.triu(np.ones(corr_matrix.shape), k=1).astype(bool))\n",
    "\n",
    "to_drop = [column for column in upper.columns if any(upper[column] > 0.9)]\n",
    "\n",
    "df_reduced =df.drop(columns=to_drop)\n",
    "\n",
    "print(df_reduced.columns)"
   ]
  },
  {
   "cell_type": "code",
   "execution_count": 15,
   "id": "80effc84-6434-4768-bc81-991df39fa03c",
   "metadata": {},
   "outputs": [
    {
     "name": "stdout",
     "output_type": "stream",
     "text": [
      "(8401, 6)\n"
     ]
    }
   ],
   "source": [
    "X = WR_df.drop(columns=['crowded','T2M_MIN','QV2M','YEAR'])\n",
    "X_shape = X.shape  \n",
    "print(X_shape)"
   ]
  },
  {
   "cell_type": "code",
   "execution_count": 16,
   "id": "ab158424-b63d-4db0-9237-bf89dc82746a",
   "metadata": {},
   "outputs": [
    {
     "data": {
      "image/png": "[encoded data removed]",
      "text/plain": [
       "<Figure size 800x600 with 1 Axes>"
      ]
     },
     "metadata": {},
     "output_type": "display_data"
    }
   ],
   "source": [
    "plt.figure(figsize=(8, 6))\n",
    "WR_df['crowded'].value_counts().plot(kind='bar', color=['blue', 'green'])\n",
    "\n",
    "plt.title('Distribution of Crowded')\n",
    "plt.xlabel('Crowded')\n",
    "plt.ylabel('Count')\n",
    "plt.show()"
   ]
  },
  {
   "cell_type": "markdown",
   "id": "eba8c4d5-721c-42cb-8080-5dbc49769460",
   "metadata": {},
   "source": [
    "### Data Balancing"
   ]
  },
  {
   "cell_type": "code",
   "execution_count": 17,
   "id": "9afbddf8-8606-4aeb-8912-d61e8b0061bd",
   "metadata": {},
   "outputs": [
    {
     "name": "stdout",
     "output_type": "stream",
     "text": [
      "crowded\n",
      "no     2100\n",
      "yes    2100\n",
      "Name: count, dtype: int64\n"
     ]
    }
   ],
   "source": [
    "from sklearn.utils import resample\n",
    "\n",
    "majority_class = WR_df[WR_df['crowded'] == 'no']\n",
    "minority_class = WR_df[WR_df['crowded'] == 'yes']\n",
    "\n",
    "majority_downsampled = resample(majority_class, replace=False, n_samples=len(minority_class), random_state=42)\n",
    "\n",
    "balanced_df = pd.concat([majority_downsampled, minority_class])\n",
    "\n",
    "print(balanced_df['crowded'].value_counts())"
   ]
  },
  {
   "cell_type": "code",
   "execution_count": 18,
   "id": "d37f663a-22d5-496e-8c7f-4e68a663b67b",
   "metadata": {},
   "outputs": [],
   "source": [
    "from sklearn.preprocessing import LabelEncoder\n",
    "label_encoder = LabelEncoder()\n",
    "y_encoded = label_encoder.fit_transform(y)"
   ]
  },
  {
   "cell_type": "code",
   "execution_count": 19,
   "id": "dd08dcb1-7401-4ac5-815a-3337b261f7d3",
   "metadata": {},
   "outputs": [],
   "source": [
    "from sklearn.model_selection import train_test_split\n",
    "train_X, test_X, train_y,test_y=train_test_split(X,y_encoded ,test_size=0.2)"
   ]
  },
  {
   "cell_type": "code",
   "execution_count": 20,
   "id": "a5470a18-0fab-4a80-abdc-cb7a2337b8ec",
   "metadata": {},
   "outputs": [
    {
     "data": {
      "text/plain": [
       "((6720, 6), (1681, 6), (6720,), (1681,))"
      ]
     },
     "execution_count": 20,
     "metadata": {},
     "output_type": "execute_result"
    }
   ],
   "source": [
    "train_X.shape, test_X.shape, train_y.shape,test_y.shape\n"
   ]
  },
  {
   "cell_type": "code",
   "execution_count": 21,
   "id": "c2415c0d-3a53-497a-90de-b45798bfa574",
   "metadata": {},
   "outputs": [],
   "source": [
    "from sklearn.metrics import confusion_matrix, accuracy_score, make_scorer\n",
    "from sklearn.model_selection import cross_validate\n",
    "\n",
    "def tn(y_true, y_pred): return confusion_matrix(y_true,y_pred)[0,0]\n",
    "def fp(y_true, y_pred): return confusion_matrix(y_true,y_pred)[0,1]\n",
    "def fn(y_true, y_pred): return confusion_matrix(y_true,y_pred)[1,0]\n",
    "def tp(y_true, y_pred): return confusion_matrix(y_true,y_pred)[1,1]\n",
    "\n",
    "scoring = {'tp': make_scorer(tp), 'tn' : make_scorer(tn),\n",
    "           'fp': make_scorer(fp), 'fn' : make_scorer(fn)}\n",
    "\n",
    "def display_result(result):\n",
    "    print(\"TP: \", result['test_tp'])\n",
    "    print(\"TN: \", result['test_tn'])\n",
    "    print(\"FP: \", result['test_fp'])\n",
    "    print(\"FN: \", result['test_fn'])"
   ]
  },
  {
   "cell_type": "code",
   "execution_count": 22,
   "id": "b0fe1ef9-a27b-43ea-9af8-a59f52887912",
   "metadata": {},
   "outputs": [
    {
     "name": "stdout",
     "output_type": "stream",
     "text": [
      "\n",
      "Accuracy 0.7299226650803093 ROC 0.5\n",
      "TP:  [0 0 0 0 0 0 0 0 0 0]\n",
      "TN:  [508 508 508 508 507 507 507 507 507 507]\n",
      "FP:  [0 0 0 0 0 0 0 0 0 0]\n",
      "FN:  [164 164 164 164 165 165 165 165 165 165]\n"
     ]
    }
   ],
   "source": [
    "from sklearn.linear_model import LogisticRegression \n",
    "from sklearn.metrics import roc_auc_score\n",
    "\n",
    "acc = []\n",
    "roc = []\n",
    "\n",
    "clf = LogisticRegression()\n",
    "clf.fit(train_X, train_y)\n",
    "y_pred = clf.predict(test_X)\n",
    "\n",
    "ac = accuracy_score(test_y, y_pred)\n",
    "acc.append(ac)\n",
    "\n",
    "rc = roc_auc_score(test_y, y_pred)\n",
    "roc.append(rc)\n",
    "\n",
    "print(\"\\nAccuracy {0} ROC {1}\".format(ac, rc))\n",
    "result = cross_validate(clf, train_X, train_y, scoring=scoring, cv=10)\n",
    "display_result(result)"
   ]
  },
  {
   "cell_type": "code",
   "execution_count": 23,
   "id": "826c749a-3d5e-4e0a-9879-b8189e4ebfca",
   "metadata": {},
   "outputs": [
    {
     "name": "stdout",
     "output_type": "stream",
     "text": [
      "\n",
      "Accuracy 0.7543129089827484 ROC 0.6631042009988188\n",
      "TP:  [68 68 65 84 74 60 72 71 85 77]\n",
      "TN:  [438 443 424 426 439 448 442 436 425 445]\n",
      "FP:  [70 65 84 82 68 59 65 71 82 62]\n",
      "FN:  [ 96  96  99  80  91 105  93  94  80  88]\n"
     ]
    }
   ],
   "source": [
    "from sklearn.neighbors import KNeighborsClassifier\n",
    "\n",
    "clf = KNeighborsClassifier(n_neighbors=3)\n",
    "clf.fit(train_X, train_y)\n",
    "y_pred = clf.predict(test_X)\n",
    "\n",
    "ac = accuracy_score(test_y, y_pred)\n",
    "acc.append(ac)\n",
    "\n",
    "rc = roc_auc_score(test_y, y_pred)\n",
    "roc.append(rc)\n",
    "\n",
    "print(\"\\nAccuracy {0} ROC {1}\".format(ac, rc))\n",
    "result = cross_validate(clf, train_X, train_y, scoring=scoring, cv=10)\n",
    "display_result(result)"
   ]
  },
  {
   "cell_type": "code",
   "execution_count": 25,
   "id": "e30f742c-7ec5-42de-803d-fdd104b98bdc",
   "metadata": {},
   "outputs": [
    {
     "name": "stdout",
     "output_type": "stream",
     "text": [
      "\n",
      "Accuracy 0.7727543129089828 ROC 0.6674107543559198\n",
      "TP:  [65 71 70 69 72 69 67 73 73 73]\n",
      "TN:  [435 459 428 444 446 453 462 435 436 462]\n",
      "FP:  [73 49 80 64 61 54 45 72 71 45]\n",
      "FN:  [99 93 94 95 93 96 98 92 92 92]\n"
     ]
    }
   ],
   "source": [
    "from sklearn.ensemble import RandomForestClassifier\n",
    "\n",
    "clf = RandomForestClassifier()\n",
    "clf.fit(train_X,train_y)\n",
    "y_pred = clf.predict(test_X)\n",
    "\n",
    "ac = accuracy_score(test_y, y_pred)\n",
    "acc.append(ac)\n",
    "\n",
    "rc = roc_auc_score(test_y, y_pred)\n",
    "roc.append(rc)\n",
    "\n",
    "print(\"\\nAccuracy {0} ROC {1}\".format(ac, rc))\n",
    "result = cross_validate(clf, train_X, train_y, scoring=scoring, cv=10)\n",
    "display_result(result)"
   ]
  },
  {
   "cell_type": "code",
   "execution_count": 26,
   "id": "005987be-9108-42eb-9191-b6bbc05ab0dd",
   "metadata": {},
   "outputs": [
    {
     "name": "stdout",
     "output_type": "stream",
     "text": [
      "\n",
      "Accuracy 0.5907198096371208 ROC 0.7196414017929911\n",
      "TP:  [164 164 164 164 165 165 165 165 165 165]\n",
      "TN:  [188 208 195 199 213 198 212 201 185 195]\n",
      "FP:  [320 300 313 309 294 309 295 306 322 312]\n",
      "FN:  [0 0 0 0 0 0 0 0 0 0]\n"
     ]
    }
   ],
   "source": [
    "from sklearn.naive_bayes import GaussianNB\n",
    "\n",
    "clf=GaussianNB()\n",
    "clf.fit(train_X,train_y)\n",
    "y_pred = clf.predict(test_X)\n",
    "\n",
    "ac = accuracy_score(test_y, y_pred)\n",
    "acc.append(ac)\n",
    "\n",
    "rc = roc_auc_score(test_y, y_pred)\n",
    "roc.append(rc)\n",
    "\n",
    "print(\"\\nAccuracy {0} ROC {1}\".format(ac, rc))\n",
    "result = cross_validate(clf, train_X, train_y, scoring=scoring, cv=10)\n",
    "display_result(result)"
   ]
  },
  {
   "cell_type": "code",
   "execution_count": 27,
   "id": "55590db5-5fc6-4a9b-9c77-a0b58e167a35",
   "metadata": {},
   "outputs": [
    {
     "name": "stdout",
     "output_type": "stream",
     "text": [
      "\n",
      "Accuracy 0.7941701368233195 ROC 0.6702856794086074\n",
      "TP:  [54 64 60 69 71 69 64 58 72 76]\n",
      "TN:  [470 478 471 467 471 485 482 475 469 474]\n",
      "FP:  [38 30 37 41 36 22 25 32 38 33]\n",
      "FN:  [110 100 104  95  94  96 101 107  93  89]\n"
     ]
    }
   ],
   "source": [
    "from sklearn.ensemble import GradientBoostingClassifier\n",
    "clf=GradientBoostingClassifier(n_estimators=50,learning_rate=0.2)\n",
    "clf.fit(train_X,train_y)\n",
    "y_pred = clf.predict(test_X)\n",
    "\n",
    "ac = accuracy_score(test_y, y_pred)\n",
    "acc.append(ac)\n",
    "\n",
    "rc = roc_auc_score(test_y, y_pred)\n",
    "roc.append(rc)\n",
    "\n",
    "print(\"\\nAccuracy {0} ROC {1}\".format(ac, rc))\n",
    "result = cross_validate(clf, train_X, train_y, scoring=scoring, cv=10)\n",
    "display_result(result)"
   ]
  },
  {
   "cell_type": "code",
   "execution_count": 28,
   "id": "57e5a403-1429-4092-89c6-e5dac5fc6e31",
   "metadata": {},
   "outputs": [
    {
     "data": {
      "image/png": "[encoded data removed]",
      "text/plain": [
       "<Figure size 900x400 with 1 Axes>"
      ]
     },
     "metadata": {},
     "output_type": "display_data"
    }
   ],
   "source": [
    "ax=plt.figure(figsize=(9,4))\n",
    "plt.bar(['Logistic Regression','SVM','KNN','RandomForest','Naiyve Bayes','Gradient Boosting'],acc,label='Accuracy')\n",
    "plt.ylabel('Accuracy Score')\n",
    "plt.xlabel('Algorithms')\n",
    "plt.show()"
   ]
  },
  {
   "cell_type": "markdown",
   "id": "0b0cdd3e-c9a5-4738-ade3-ee2f580db96f",
   "metadata": {},
   "source": [
    "### Save the model"
   ]
  },
  {
   "cell_type": "code",
   "execution_count": 29,
   "id": "ef07707f-137e-450d-a3df-809ae7fecff0",
   "metadata": {},
   "outputs": [],
   "source": [
    "import joblib"
   ]
  },
  {
   "cell_type": "code",
   "execution_count": 31,
   "id": "f5cfc9bf-cee6-4927-bc2d-8e64a2895764",
   "metadata": {},
   "outputs": [
    {
     "data": {
      "text/plain": [
       "['gradient_boost_model.plk']"
      ]
     },
     "execution_count": 31,
     "metadata": {},
     "output_type": "execute_result"
    }
   ],
   "source": [
    "joblib_file = \"gradient_boost_model.plk\"\n",
    "joblib.dump(clf, joblib_file)"
   ]
  },
  {
   "cell_type": "code",
   "execution_count": null,
   "id": "d0ccefec-b8cc-455b-a282-12f5e04abe7b",
   "metadata": {},
   "outputs": [],
   "source": []
  }
 ],
 "metadata": {
  "kernelspec": {
   "display_name": "Python 3 (ipykernel)",
   "language": "python",
   "name": "python3"
  },
  "language_info": {
   "codemirror_mode": {
    "name": "ipython",
    "version": 3
   },
   "file_extension": ".py",
   "mimetype": "text/x-python",
   "name": "python",
   "nbconvert_exporter": "python",
   "pygments_lexer": "ipython3",
   "version": "3.12.2"
  }
 },
 "nbformat": 4,
 "nbformat_minor": 5
}
